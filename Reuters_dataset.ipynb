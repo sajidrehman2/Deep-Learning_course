{
  "nbformat": 4,
  "nbformat_minor": 0,
  "metadata": {
    "colab": {
      "provenance": []
    },
    "kernelspec": {
      "name": "python3",
      "display_name": "Python 3"
    },
    "language_info": {
      "name": "python"
    }
  },
  "cells": [
    {
      "cell_type": "markdown",
      "source": [
        "# Loading the Reuters dataset"
      ],
      "metadata": {
        "id": "DG_gyHyRSonB"
      }
    },
    {
      "cell_type": "code",
      "execution_count": null,
      "metadata": {
        "colab": {
          "base_uri": "https://localhost:8080/"
        },
        "id": "3bivrqd4Shpb",
        "outputId": "6064fe51-5a0d-4b51-bd94-76a0144cf720"
      },
      "outputs": [
        {
          "output_type": "stream",
          "name": "stdout",
          "text": [
            "Downloading data from https://storage.googleapis.com/tensorflow/tf-keras-datasets/reuters.npz\n",
            "\u001b[1m2110848/2110848\u001b[0m \u001b[32m━━━━━━━━━━━━━━━━━━━━\u001b[0m\u001b[37m\u001b[0m \u001b[1m0s\u001b[0m 0us/step\n"
          ]
        }
      ],
      "source": [
        "from tensorflow.keras.datasets import reuters\n",
        "(train_data, train_labels), (test_data, test_labels) = reuters.load_data(\n",
        " num_words=10000)"
      ]
    },
    {
      "cell_type": "code",
      "source": [
        "len(train_data)"
      ],
      "metadata": {
        "colab": {
          "base_uri": "https://localhost:8080/"
        },
        "id": "LJGQLAVWSvDn",
        "outputId": "efb43eef-d7f6-4da7-d740-885870d3786b"
      },
      "execution_count": null,
      "outputs": [
        {
          "output_type": "execute_result",
          "data": {
            "text/plain": [
              "8982"
            ]
          },
          "metadata": {},
          "execution_count": 2
        }
      ]
    },
    {
      "cell_type": "code",
      "source": [
        "len(test_data)"
      ],
      "metadata": {
        "colab": {
          "base_uri": "https://localhost:8080/"
        },
        "id": "MApBBFJTS4Bw",
        "outputId": "a7af9b27-9a06-44e3-d114-85dcfc6f3f3d"
      },
      "execution_count": null,
      "outputs": [
        {
          "output_type": "execute_result",
          "data": {
            "text/plain": [
              "2246"
            ]
          },
          "metadata": {},
          "execution_count": 3
        }
      ]
    },
    {
      "cell_type": "code",
      "source": [
        "train_data[10]"
      ],
      "metadata": {
        "colab": {
          "base_uri": "https://localhost:8080/"
        },
        "id": "djrNUhwzS52L",
        "outputId": "dcd6cd95-8bcd-450f-e2cf-f88c246bc025"
      },
      "execution_count": null,
      "outputs": [
        {
          "output_type": "execute_result",
          "data": {
            "text/plain": [
              "[1,\n",
              " 245,\n",
              " 273,\n",
              " 207,\n",
              " 156,\n",
              " 53,\n",
              " 74,\n",
              " 160,\n",
              " 26,\n",
              " 14,\n",
              " 46,\n",
              " 296,\n",
              " 26,\n",
              " 39,\n",
              " 74,\n",
              " 2979,\n",
              " 3554,\n",
              " 14,\n",
              " 46,\n",
              " 4689,\n",
              " 4329,\n",
              " 86,\n",
              " 61,\n",
              " 3499,\n",
              " 4795,\n",
              " 14,\n",
              " 61,\n",
              " 451,\n",
              " 4329,\n",
              " 17,\n",
              " 12]"
            ]
          },
          "metadata": {},
          "execution_count": 4
        }
      ]
    },
    {
      "cell_type": "markdown",
      "source": [
        " # Decoding newswires back to text\n"
      ],
      "metadata": {
        "id": "33GamqzKTLFC"
      }
    },
    {
      "cell_type": "code",
      "source": [
        "word_index = reuters.get_word_index()\n",
        "reverse_word_index = dict(\n",
        " [(value, key) for (key, value) in word_index.items()])\n",
        "decoded_newswire = \" \".join(\n",
        " [reverse_word_index.get(i - 3, \"?\") for i in train_data[0]])"
      ],
      "metadata": {
        "colab": {
          "base_uri": "https://localhost:8080/"
        },
        "id": "vrljNGOjTA3O",
        "outputId": "4c3068f5-2d5c-4e7a-c550-09035ccb61e2"
      },
      "execution_count": null,
      "outputs": [
        {
          "output_type": "stream",
          "name": "stdout",
          "text": [
            "Downloading data from https://storage.googleapis.com/tensorflow/tf-keras-datasets/reuters_word_index.json\n",
            "\u001b[1m550378/550378\u001b[0m \u001b[32m━━━━━━━━━━━━━━━━━━━━\u001b[0m\u001b[37m\u001b[0m \u001b[1m0s\u001b[0m 0us/step\n"
          ]
        }
      ]
    },
    {
      "cell_type": "code",
      "source": [
        "# Instead of using a slice, you can use a loop to access items within a key range.\n",
        "for key in range(10, 21): # Loop through the desired key range (10 to 20 inclusive)\n",
        "    if key in reverse_word_index: # Check if the key exists in the dictionary\n",
        "        print(f\"Key: {key}, Value: {reverse_word_index[key]}\") # Print the key and value"
      ],
      "metadata": {
        "colab": {
          "base_uri": "https://localhost:8080/"
        },
        "id": "yL-yD55f0pEh",
        "outputId": "54f8ccb1-4bd6-4643-838f-0db581d48a3f"
      },
      "execution_count": null,
      "outputs": [
        {
          "output_type": "stream",
          "name": "stdout",
          "text": [
            "Key: 10, Value: for\n",
            "Key: 11, Value: vs\n",
            "Key: 12, Value: dlrs\n",
            "Key: 13, Value: it\n",
            "Key: 14, Value: reuter\n",
            "Key: 15, Value: 000\n",
            "Key: 16, Value: 1\n",
            "Key: 17, Value: pct\n",
            "Key: 18, Value: on\n",
            "Key: 19, Value: from\n",
            "Key: 20, Value: is\n"
          ]
        }
      ]
    },
    {
      "cell_type": "code",
      "source": [
        "train_labels[10]"
      ],
      "metadata": {
        "colab": {
          "base_uri": "https://localhost:8080/"
        },
        "id": "mEWGUzPBTYpj",
        "outputId": "713c8b75-395e-4cae-f069-034912f44e64"
      },
      "execution_count": null,
      "outputs": [
        {
          "output_type": "execute_result",
          "data": {
            "text/plain": [
              "3"
            ]
          },
          "metadata": {},
          "execution_count": 7
        }
      ]
    },
    {
      "cell_type": "markdown",
      "source": [
        "# Encoding the input data"
      ],
      "metadata": {
        "id": "ETlbvZT3ThZ8"
      }
    },
    {
      "cell_type": "code",
      "source": [
        "import numpy as np\n",
        "\n",
        "def vectorize_sequences(sequences, dimension=10000):\n",
        "    \"\"\"\n",
        "    Vectorizes the sequences (list of word indices) into a binary matrix.\n",
        "\n",
        "    Args:\n",
        "        sequences: A list of sequences (each sequence is a list of word indices).\n",
        "        dimension: The size of the vocabulary (number of unique words).\n",
        "\n",
        "    Returns:\n",
        "        A NumPy array representing the vectorized sequences.\n",
        "    \"\"\"\n",
        "    results = np.zeros((len(sequences), dimension))\n",
        "    for i, sequence in enumerate(sequences):\n",
        "        results[i, sequence] = 1.  # set specific indices of results[i] to 1s\n",
        "    return results\n",
        "\n",
        "# Now you can call the function:\n",
        "x_train = vectorize_sequences(train_data)\n",
        "x_test = vectorize_sequences(test_data)"
      ],
      "metadata": {
        "id": "mf_ZoxEOTy_R"
      },
      "execution_count": null,
      "outputs": []
    },
    {
      "cell_type": "code",
      "source": [
        "x_train = vectorize_sequences(train_data)\n",
        "x_test = vectorize_sequences(test_data)"
      ],
      "metadata": {
        "id": "_eXiYw2GTdvv"
      },
      "execution_count": null,
      "outputs": []
    },
    {
      "cell_type": "markdown",
      "source": [
        "# Encoding the labels"
      ],
      "metadata": {
        "id": "-8-ZZaULUCGZ"
      }
    },
    {
      "cell_type": "code",
      "source": [
        "def to_one_hot(labels, dimension=46):\n",
        "    results = np.zeros((len(labels), dimension))\n",
        "    for i, label in enumerate(labels):\n",
        "        results[i, label] = 1.  # This line should be indented\n",
        "    return results\n",
        "y_train = to_one_hot(train_labels)\n",
        "y_test = to_one_hot(test_labels)"
      ],
      "metadata": {
        "id": "SPFT7BmDTnYz"
      },
      "execution_count": null,
      "outputs": []
    },
    {
      "cell_type": "code",
      "source": [
        "from tensorflow.keras.utils import to_categorical\n",
        "y_train = to_categorical(train_labels)\n",
        "y_test = to_categorical(test_labels)"
      ],
      "metadata": {
        "id": "HAuVKedXUQlE"
      },
      "execution_count": null,
      "outputs": []
    },
    {
      "cell_type": "markdown",
      "source": [
        "# Building your model"
      ],
      "metadata": {
        "id": "M9_4qgReUa7X"
      }
    },
    {
      "cell_type": "code",
      "source": [
        "import tensorflow as tf\n",
        "from tensorflow import keras\n",
        "from tensorflow.keras import layers\n",
        "\n",
        "model = keras.Sequential([\n",
        "    layers.Dense(64, activation=\"relu\"),\n",
        "    layers.Dense(64, activation=\"relu\"),\n",
        "    layers.Dense(46, activation=\"softmax\")\n",
        "])"
      ],
      "metadata": {
        "id": "NMSEGgfYUW6s"
      },
      "execution_count": null,
      "outputs": []
    },
    {
      "cell_type": "markdown",
      "source": [
        "#Compiling the model"
      ],
      "metadata": {
        "id": "abagMDXMUw_r"
      }
    },
    {
      "cell_type": "code",
      "source": [
        "model.compile(optimizer=\"rmsprop\",\n",
        " loss=\"categorical_crossentropy\",\n",
        " metrics=[\"accuracy\"])"
      ],
      "metadata": {
        "id": "Xe6IoRN0Ul3i"
      },
      "execution_count": null,
      "outputs": []
    },
    {
      "cell_type": "markdown",
      "source": [
        "#Setting aside a validation set"
      ],
      "metadata": {
        "id": "1tZssw3RU77z"
      }
    },
    {
      "cell_type": "code",
      "source": [
        "x_val = x_train[:1000]\n",
        "partial_x_train = x_train[1000:]\n",
        "y_val = y_train[:1000]\n",
        "partial_y_train = y_train[1000:]"
      ],
      "metadata": {
        "id": "X7xmHEQrU3_R"
      },
      "execution_count": null,
      "outputs": []
    },
    {
      "cell_type": "markdown",
      "source": [
        "# Training the model"
      ],
      "metadata": {
        "id": "iuiz7RFfVF9-"
      }
    },
    {
      "cell_type": "code",
      "source": [
        "history = model.fit(partial_x_train,\n",
        "partial_y_train,\n",
        "epochs=20,\n",
        "batch_size=512,\n",
        "validation_data=(x_val, y_val))"
      ],
      "metadata": {
        "colab": {
          "base_uri": "https://localhost:8080/"
        },
        "id": "9zONRkG0VBDQ",
        "outputId": "bf434892-14b8-420e-8605-84dfb84b9926"
      },
      "execution_count": null,
      "outputs": [
        {
          "output_type": "stream",
          "name": "stdout",
          "text": [
            "Epoch 1/20\n",
            "\u001b[1m16/16\u001b[0m \u001b[32m━━━━━━━━━━━━━━━━━━━━\u001b[0m\u001b[37m\u001b[0m \u001b[1m2s\u001b[0m 69ms/step - accuracy: 0.3379 - loss: 3.1961 - val_accuracy: 0.6180 - val_loss: 1.8634\n",
            "Epoch 2/20\n",
            "\u001b[1m16/16\u001b[0m \u001b[32m━━━━━━━━━━━━━━━━━━━━\u001b[0m\u001b[37m\u001b[0m \u001b[1m1s\u001b[0m 50ms/step - accuracy: 0.6724 - loss: 1.6420 - val_accuracy: 0.6970 - val_loss: 1.3906\n",
            "Epoch 3/20\n",
            "\u001b[1m16/16\u001b[0m \u001b[32m━━━━━━━━━━━━━━━━━━━━\u001b[0m\u001b[37m\u001b[0m \u001b[1m1s\u001b[0m 54ms/step - accuracy: 0.7363 - loss: 1.2297 - val_accuracy: 0.7250 - val_loss: 1.2062\n",
            "Epoch 4/20\n",
            "\u001b[1m16/16\u001b[0m \u001b[32m━━━━━━━━━━━━━━━━━━━━\u001b[0m\u001b[37m\u001b[0m \u001b[1m2s\u001b[0m 90ms/step - accuracy: 0.7894 - loss: 0.9812 - val_accuracy: 0.7650 - val_loss: 1.0812\n",
            "Epoch 5/20\n",
            "\u001b[1m16/16\u001b[0m \u001b[32m━━━━━━━━━━━━━━━━━━━━\u001b[0m\u001b[37m\u001b[0m \u001b[1m1s\u001b[0m 86ms/step - accuracy: 0.8256 - loss: 0.8134 - val_accuracy: 0.7820 - val_loss: 1.0086\n",
            "Epoch 6/20\n",
            "\u001b[1m16/16\u001b[0m \u001b[32m━━━━━━━━━━━━━━━━━━━━\u001b[0m\u001b[37m\u001b[0m \u001b[1m1s\u001b[0m 51ms/step - accuracy: 0.8606 - loss: 0.6651 - val_accuracy: 0.8040 - val_loss: 0.9619\n",
            "Epoch 7/20\n",
            "\u001b[1m16/16\u001b[0m \u001b[32m━━━━━━━━━━━━━━━━━━━━\u001b[0m\u001b[37m\u001b[0m \u001b[1m1s\u001b[0m 54ms/step - accuracy: 0.8820 - loss: 0.5654 - val_accuracy: 0.8120 - val_loss: 0.9225\n",
            "Epoch 8/20\n",
            "\u001b[1m16/16\u001b[0m \u001b[32m━━━━━━━━━━━━━━━━━━━━\u001b[0m\u001b[37m\u001b[0m \u001b[1m1s\u001b[0m 48ms/step - accuracy: 0.9105 - loss: 0.4640 - val_accuracy: 0.8130 - val_loss: 0.8778\n",
            "Epoch 9/20\n",
            "\u001b[1m16/16\u001b[0m \u001b[32m━━━━━━━━━━━━━━━━━━━━\u001b[0m\u001b[37m\u001b[0m \u001b[1m1s\u001b[0m 54ms/step - accuracy: 0.9184 - loss: 0.3891 - val_accuracy: 0.8110 - val_loss: 0.8679\n",
            "Epoch 10/20\n",
            "\u001b[1m16/16\u001b[0m \u001b[32m━━━━━━━━━━━━━━━━━━━━\u001b[0m\u001b[37m\u001b[0m \u001b[1m1s\u001b[0m 54ms/step - accuracy: 0.9349 - loss: 0.3189 - val_accuracy: 0.8200 - val_loss: 0.8699\n",
            "Epoch 11/20\n",
            "\u001b[1m16/16\u001b[0m \u001b[32m━━━━━━━━━━━━━━━━━━━━\u001b[0m\u001b[37m\u001b[0m \u001b[1m1s\u001b[0m 52ms/step - accuracy: 0.9452 - loss: 0.2773 - val_accuracy: 0.8250 - val_loss: 0.8550\n",
            "Epoch 12/20\n",
            "\u001b[1m16/16\u001b[0m \u001b[32m━━━━━━━━━━━━━━━━━━━━\u001b[0m\u001b[37m\u001b[0m \u001b[1m1s\u001b[0m 56ms/step - accuracy: 0.9489 - loss: 0.2438 - val_accuracy: 0.8260 - val_loss: 0.8577\n",
            "Epoch 13/20\n",
            "\u001b[1m16/16\u001b[0m \u001b[32m━━━━━━━━━━━━━━━━━━━━\u001b[0m\u001b[37m\u001b[0m \u001b[1m1s\u001b[0m 50ms/step - accuracy: 0.9530 - loss: 0.2054 - val_accuracy: 0.8250 - val_loss: 0.8685\n",
            "Epoch 14/20\n",
            "\u001b[1m16/16\u001b[0m \u001b[32m━━━━━━━━━━━━━━━━━━━━\u001b[0m\u001b[37m\u001b[0m \u001b[1m1s\u001b[0m 51ms/step - accuracy: 0.9525 - loss: 0.1961 - val_accuracy: 0.8220 - val_loss: 0.8797\n",
            "Epoch 15/20\n",
            "\u001b[1m16/16\u001b[0m \u001b[32m━━━━━━━━━━━━━━━━━━━━\u001b[0m\u001b[37m\u001b[0m \u001b[1m2s\u001b[0m 87ms/step - accuracy: 0.9559 - loss: 0.1768 - val_accuracy: 0.8250 - val_loss: 0.8889\n",
            "Epoch 16/20\n",
            "\u001b[1m16/16\u001b[0m \u001b[32m━━━━━━━━━━━━━━━━━━━━\u001b[0m\u001b[37m\u001b[0m \u001b[1m1s\u001b[0m 85ms/step - accuracy: 0.9570 - loss: 0.1584 - val_accuracy: 0.8210 - val_loss: 0.8991\n",
            "Epoch 17/20\n",
            "\u001b[1m16/16\u001b[0m \u001b[32m━━━━━━━━━━━━━━━━━━━━\u001b[0m\u001b[37m\u001b[0m \u001b[1m2s\u001b[0m 53ms/step - accuracy: 0.9599 - loss: 0.1516 - val_accuracy: 0.8000 - val_loss: 1.0177\n",
            "Epoch 18/20\n",
            "\u001b[1m16/16\u001b[0m \u001b[32m━━━━━━━━━━━━━━━━━━━━\u001b[0m\u001b[37m\u001b[0m \u001b[1m1s\u001b[0m 52ms/step - accuracy: 0.9582 - loss: 0.1464 - val_accuracy: 0.8120 - val_loss: 0.9227\n",
            "Epoch 19/20\n",
            "\u001b[1m16/16\u001b[0m \u001b[32m━━━━━━━━━━━━━━━━━━━━\u001b[0m\u001b[37m\u001b[0m \u001b[1m1s\u001b[0m 52ms/step - accuracy: 0.9632 - loss: 0.1228 - val_accuracy: 0.8180 - val_loss: 0.9703\n",
            "Epoch 20/20\n",
            "\u001b[1m16/16\u001b[0m \u001b[32m━━━━━━━━━━━━━━━━━━━━\u001b[0m\u001b[37m\u001b[0m \u001b[1m1s\u001b[0m 54ms/step - accuracy: 0.9591 - loss: 0.1403 - val_accuracy: 0.8230 - val_loss: 0.9262\n"
          ]
        }
      ]
    },
    {
      "cell_type": "markdown",
      "source": [
        "#Plotting the training and validation loss"
      ],
      "metadata": {
        "id": "aeQ6I5C7VVqH"
      }
    },
    {
      "cell_type": "code",
      "source": [
        "import matplotlib.pyplot as plt\n",
        "loss = history.history[\"loss\"]\n",
        "val_loss = history.history[\"val_loss\"]\n",
        "epochs = range(1, len(loss) + 1)\n",
        "plt.plot(epochs, loss, \"bo\", label=\"Training loss\")\n",
        "plt.plot(epochs, val_loss, \"b\", label=\"Validation loss\")\n",
        "plt.title(\"Training and validation loss\")\n",
        "plt.xlabel(\"Epochs\")\n",
        "plt.ylabel(\"Loss\")\n",
        "plt.legend()\n",
        "plt.show()"
      ],
      "metadata": {
        "colab": {
          "base_uri": "https://localhost:8080/",
          "height": 472
        },
        "id": "yltaSqjSVMuZ",
        "outputId": "ba77f6c6-1df0-40bb-f5af-d83b901b54df"
      },
      "execution_count": null,
      "outputs": [
        {
          "output_type": "display_data",
          "data": {
            "text/plain": [
              "<Figure size 640x480 with 1 Axes>"
            ],
            "image/png": "[encoded data removed]"
          },
          "metadata": {}
        }
      ]
    },
    {
      "cell_type": "markdown",
      "source": [
        "#Plotting the training and validation accuracy"
      ],
      "metadata": {
        "id": "Rj46PO5DVnck"
      }
    },
    {
      "cell_type": "code",
      "source": [
        "plt.clf()\n",
        "acc = history.history[\"accuracy\"]\n",
        "val_acc = history.history[\"val_accuracy\"]\n",
        "plt.plot(epochs, acc, \"bo\", label=\"Training accuracy\")\n",
        "plt.plot(epochs, val_acc, \"b\", label=\"Validation accuracy\")\n",
        "plt.title(\"Training and validation accuracy\")\n",
        "plt.xlabel(\"Epochs\")\n",
        "plt.ylabel(\"Accuracy\")\n",
        "plt.legend()\n",
        "plt.show()"
      ],
      "metadata": {
        "colab": {
          "base_uri": "https://localhost:8080/",
          "height": 472
        },
        "id": "XZCg-awXVaGJ",
        "outputId": "b80b3be1-7a7b-494e-eca6-5327afbacadd"
      },
      "execution_count": null,
      "outputs": [
        {
          "output_type": "display_data",
          "data": {
            "text/plain": [
              "<Figure size 640x480 with 1 Axes>"
            ],
            "image/png": "[encoded data removed]"
          },
          "metadata": {}
        }
      ]
    },
    {
      "cell_type": "markdown",
      "source": [
        "#Retraining a model from scratch"
      ],
      "metadata": {
        "id": "wpuI55XBWBN4"
      }
    },
    {
      "cell_type": "code",
      "source": [
        "model = keras.Sequential([\n",
        " layers.Dense(64, activation=\"relu\"),\n",
        " layers.Dense(64, activation=\"relu\"),\n",
        " layers.Dense(46, activation=\"softmax\")\n",
        "])\n",
        "model.compile(optimizer=\"rmsprop\",\n",
        " loss=\"categorical_crossentropy\",\n",
        " metrics=[\"accuracy\"])\n",
        "model.fit(x_train,\n",
        " y_train,\n",
        " epochs=9,\n",
        " batch_size=512)\n",
        "results = model.evaluate(x_test, y_test)"
      ],
      "metadata": {
        "colab": {
          "base_uri": "https://localhost:8080/"
        },
        "id": "GC9WyIbeVsfE",
        "outputId": "fc741916-701d-4afc-89fa-c27c58b63932"
      },
      "execution_count": null,
      "outputs": [
        {
          "output_type": "stream",
          "name": "stdout",
          "text": [
            "Epoch 1/9\n",
            "\u001b[1m18/18\u001b[0m \u001b[32m━━━━━━━━━━━━━━━━━━━━\u001b[0m\u001b[37m\u001b[0m \u001b[1m3s\u001b[0m 69ms/step - accuracy: 0.4012 - loss: 3.2263\n",
            "Epoch 2/9\n",
            "\u001b[1m18/18\u001b[0m \u001b[32m━━━━━━━━━━━━━━━━━━━━\u001b[0m\u001b[37m\u001b[0m \u001b[1m2s\u001b[0m 49ms/step - accuracy: 0.6579 - loss: 1.6103\n",
            "Epoch 3/9\n",
            "\u001b[1m18/18\u001b[0m \u001b[32m━━━━━━━━━━━━━━━━━━━━\u001b[0m\u001b[37m\u001b[0m \u001b[1m1s\u001b[0m 49ms/step - accuracy: 0.7472 - loss: 1.1661\n",
            "Epoch 4/9\n",
            "\u001b[1m18/18\u001b[0m \u001b[32m━━━━━━━━━━━━━━━━━━━━\u001b[0m\u001b[37m\u001b[0m \u001b[1m1s\u001b[0m 48ms/step - accuracy: 0.7985 - loss: 0.9470\n",
            "Epoch 5/9\n",
            "\u001b[1m18/18\u001b[0m \u001b[32m━━━━━━━━━━━━━━━━━━━━\u001b[0m\u001b[37m\u001b[0m \u001b[1m1s\u001b[0m 66ms/step - accuracy: 0.8339 - loss: 0.7803\n",
            "Epoch 6/9\n",
            "\u001b[1m18/18\u001b[0m \u001b[32m━━━━━━━━━━━━━━━━━━━━\u001b[0m\u001b[37m\u001b[0m \u001b[1m2s\u001b[0m 80ms/step - accuracy: 0.8563 - loss: 0.6546\n",
            "Epoch 7/9\n",
            "\u001b[1m18/18\u001b[0m \u001b[32m━━━━━━━━━━━━━━━━━━━━\u001b[0m\u001b[37m\u001b[0m \u001b[1m3s\u001b[0m 93ms/step - accuracy: 0.8803 - loss: 0.5546\n",
            "Epoch 8/9\n",
            "\u001b[1m18/18\u001b[0m \u001b[32m━━━━━━━━━━━━━━━━━━━━\u001b[0m\u001b[37m\u001b[0m \u001b[1m3s\u001b[0m 137ms/step - accuracy: 0.8975 - loss: 0.4645\n",
            "Epoch 9/9\n",
            "\u001b[1m18/18\u001b[0m \u001b[32m━━━━━━━━━━━━━━━━━━━━\u001b[0m\u001b[37m\u001b[0m \u001b[1m2s\u001b[0m 106ms/step - accuracy: 0.9222 - loss: 0.3771\n",
            "\u001b[1m71/71\u001b[0m \u001b[32m━━━━━━━━━━━━━━━━━━━━\u001b[0m\u001b[37m\u001b[0m \u001b[1m1s\u001b[0m 4ms/step - accuracy: 0.7946 - loss: 0.9077\n"
          ]
        }
      ]
    },
    {
      "cell_type": "code",
      "source": [
        " results"
      ],
      "metadata": {
        "colab": {
          "base_uri": "https://localhost:8080/"
        },
        "id": "GWYvytsaV4g2",
        "outputId": "c02e0692-a59b-452b-c805-1295093c8ca4"
      },
      "execution_count": null,
      "outputs": [
        {
          "output_type": "execute_result",
          "data": {
            "text/plain": [
              "[0.9203615784645081, 0.7880676984786987]"
            ]
          },
          "metadata": {},
          "execution_count": 19
        }
      ]
    },
    {
      "cell_type": "code",
      "source": [
        "# we use the copy of data to prevent orginal data from shapal\n",
        "import copy\n",
        "test_labels_copy = copy.copy(test_labels)\n",
        "np.random.shuffle(test_labels_copy)"
      ],
      "metadata": {
        "id": "Ge7BZc8eWchI"
      },
      "execution_count": null,
      "outputs": []
    },
    {
      "cell_type": "code",
      "source": [
        "import copy\n",
        "test_labels_copy = copy.copy(test_labels)\n",
        "np.random.shuffle(test_labels_copy)\n",
        "hits_array = np.array(test_labels) == np.array(test_labels_copy)\n",
        "hits_array.mean()"
      ],
      "metadata": {
        "colab": {
          "base_uri": "https://localhost:8080/"
        },
        "id": "7-Apl4wpWm5b",
        "outputId": "6d8f7ddb-37bf-43d3-81e7-8fa70ee5a2a7"
      },
      "execution_count": null,
      "outputs": [
        {
          "output_type": "execute_result",
          "data": {
            "text/plain": [
              "0.19634906500445237"
            ]
          },
          "metadata": {},
          "execution_count": 21
        }
      ]
    },
    {
      "cell_type": "markdown",
      "source": [
        "#Generating predictions on new data"
      ],
      "metadata": {
        "id": "GZdvlxKIW005"
      }
    },
    {
      "cell_type": "code",
      "source": [
        "predictions = model.predict(x_test)"
      ],
      "metadata": {
        "colab": {
          "base_uri": "https://localhost:8080/"
        },
        "id": "-zmRz4UaWwHN",
        "outputId": "2aa21348-88da-4f48-f1d1-9f1140d06a61"
      },
      "execution_count": null,
      "outputs": [
        {
          "output_type": "stream",
          "name": "stdout",
          "text": [
            "\u001b[1m71/71\u001b[0m \u001b[32m━━━━━━━━━━━━━━━━━━━━\u001b[0m\u001b[37m\u001b[0m \u001b[1m0s\u001b[0m 4ms/step\n"
          ]
        }
      ]
    },
    {
      "cell_type": "code",
      "source": [
        "predictions[0].shape\n",
        "(46,)"
      ],
      "metadata": {
        "colab": {
          "base_uri": "https://localhost:8080/"
        },
        "id": "0Bgf7AQnW5IE",
        "outputId": "99c91f1e-2fef-4a23-f553-6f48edccd7d8"
      },
      "execution_count": null,
      "outputs": [
        {
          "output_type": "execute_result",
          "data": {
            "text/plain": [
              "(46,)"
            ]
          },
          "metadata": {},
          "execution_count": 23
        }
      ]
    },
    {
      "cell_type": "code",
      "source": [
        " np.sum(predictions[0])\n"
      ],
      "metadata": {
        "colab": {
          "base_uri": "https://localhost:8080/"
        },
        "id": "ZfCij5SvW-W6",
        "outputId": "1e6298c4-c6c6-4bda-e361-669dbf164da3"
      },
      "execution_count": null,
      "outputs": [
        {
          "output_type": "execute_result",
          "data": {
            "text/plain": [
              "1.0000001"
            ]
          },
          "metadata": {},
          "execution_count": 24
        }
      ]
    },
    {
      "cell_type": "code",
      "source": [
        "np.argmax(predictions[0])"
      ],
      "metadata": {
        "colab": {
          "base_uri": "https://localhost:8080/"
        },
        "id": "rJpAMrRWXDJc",
        "outputId": "159aaf6b-438e-4e11-c18f-ad7e7b60b80c"
      },
      "execution_count": null,
      "outputs": [
        {
          "output_type": "execute_result",
          "data": {
            "text/plain": [
              "3"
            ]
          },
          "metadata": {},
          "execution_count": 25
        }
      ]
    },
    {
      "cell_type": "markdown",
      "source": [
        "#A different way to handle the labels and the loss"
      ],
      "metadata": {
        "id": "YwNzN-uWXZb8"
      }
    },
    {
      "cell_type": "code",
      "source": [
        "y_train = np.array(train_labels)\n",
        "y_test = np.array(test_labels)"
      ],
      "metadata": {
        "id": "lN-np33qXHRm"
      },
      "execution_count": null,
      "outputs": []
    },
    {
      "cell_type": "code",
      "source": [
        "model.compile(optimizer=\"rmsprop\",\n",
        " loss=\"sparse_categorical_crossentropy\",\n",
        " metrics=[\"accuracy\"])"
      ],
      "metadata": {
        "id": "WY-TfyF7Xe-z"
      },
      "execution_count": null,
      "outputs": []
    },
    {
      "cell_type": "markdown",
      "source": [
        "#The importance of having sufficiently large intermediate layers\n",
        "#  A model with an information bottleneck\n"
      ],
      "metadata": {
        "id": "FSIyImebXlnK"
      }
    },
    {
      "cell_type": "code",
      "source": [
        "model = keras.Sequential([\n",
        " layers.Dense(64, activation=\"relu\"),\n",
        " layers.Dense(4, activation=\"relu\"),\n",
        " layers.Dense(46, activation=\"softmax\")\n",
        "])\n",
        "model.compile(optimizer=\"rmsprop\",\n",
        " loss=\"categorical_crossentropy\",\n",
        " metrics=[\"accuracy\"])\n",
        "model.fit(partial_x_train,\n",
        " partial_y_train,\n",
        " epochs=20,\n",
        " batch_size=128,\n",
        " validation_data=(x_val, y_val))"
      ],
      "metadata": {
        "colab": {
          "base_uri": "https://localhost:8080/"
        },
        "id": "gpzQM8-4XiTU",
        "outputId": "ab46e723-a746-411f-e42d-bbffa7632727"
      },
      "execution_count": null,
      "outputs": [
        {
          "output_type": "stream",
          "name": "stdout",
          "text": [
            "Epoch 1/20\n",
            "\u001b[1m63/63\u001b[0m \u001b[32m━━━━━━━━━━━━━━━━━━━━\u001b[0m\u001b[37m\u001b[0m \u001b[1m4s\u001b[0m 35ms/step - accuracy: 0.1534 - loss: 3.2785 - val_accuracy: 0.4380 - val_loss: 2.0339\n",
            "Epoch 2/20\n",
            "\u001b[1m63/63\u001b[0m \u001b[32m━━━━━━━━━━━━━━━━━━━━\u001b[0m\u001b[37m\u001b[0m \u001b[1m1s\u001b[0m 17ms/step - accuracy: 0.5543 - loss: 1.7966 - val_accuracy: 0.6060 - val_loss: 1.5310\n",
            "Epoch 3/20\n",
            "\u001b[1m63/63\u001b[0m \u001b[32m━━━━━━━━━━━━━━━━━━━━\u001b[0m\u001b[37m\u001b[0m \u001b[1m1s\u001b[0m 17ms/step - accuracy: 0.6484 - loss: 1.3816 - val_accuracy: 0.6720 - val_loss: 1.3728\n",
            "Epoch 4/20\n",
            "\u001b[1m63/63\u001b[0m \u001b[32m━━━━━━━━━━━━━━━━━━━━\u001b[0m\u001b[37m\u001b[0m \u001b[1m1s\u001b[0m 18ms/step - accuracy: 0.7126 - loss: 1.1810 - val_accuracy: 0.6880 - val_loss: 1.3194\n",
            "Epoch 5/20\n",
            "\u001b[1m63/63\u001b[0m \u001b[32m━━━━━━━━━━━━━━━━━━━━\u001b[0m\u001b[37m\u001b[0m \u001b[1m1s\u001b[0m 17ms/step - accuracy: 0.7515 - loss: 1.0191 - val_accuracy: 0.6910 - val_loss: 1.2991\n",
            "Epoch 6/20\n",
            "\u001b[1m63/63\u001b[0m \u001b[32m━━━━━━━━━━━━━━━━━━━━\u001b[0m\u001b[37m\u001b[0m \u001b[1m1s\u001b[0m 17ms/step - accuracy: 0.7575 - loss: 0.9512 - val_accuracy: 0.6910 - val_loss: 1.2792\n",
            "Epoch 7/20\n",
            "\u001b[1m63/63\u001b[0m \u001b[32m━━━━━━━━━━━━━━━━━━━━\u001b[0m\u001b[37m\u001b[0m \u001b[1m1s\u001b[0m 17ms/step - accuracy: 0.7651 - loss: 0.8743 - val_accuracy: 0.7040 - val_loss: 1.2621\n",
            "Epoch 8/20\n",
            "\u001b[1m63/63\u001b[0m \u001b[32m━━━━━━━━━━━━━━━━━━━━\u001b[0m\u001b[37m\u001b[0m \u001b[1m1s\u001b[0m 17ms/step - accuracy: 0.7749 - loss: 0.8321 - val_accuracy: 0.7050 - val_loss: 1.2798\n",
            "Epoch 9/20\n",
            "\u001b[1m63/63\u001b[0m \u001b[32m━━━━━━━━━━━━━━━━━━━━\u001b[0m\u001b[37m\u001b[0m \u001b[1m1s\u001b[0m 17ms/step - accuracy: 0.7880 - loss: 0.7536 - val_accuracy: 0.7100 - val_loss: 1.2892\n",
            "Epoch 10/20\n",
            "\u001b[1m63/63\u001b[0m \u001b[32m━━━━━━━━━━━━━━━━━━━━\u001b[0m\u001b[37m\u001b[0m \u001b[1m2s\u001b[0m 28ms/step - accuracy: 0.8093 - loss: 0.7136 - val_accuracy: 0.7140 - val_loss: 1.2957\n",
            "Epoch 11/20\n",
            "\u001b[1m63/63\u001b[0m \u001b[32m━━━━━━━━━━━━━━━━━━━━\u001b[0m\u001b[37m\u001b[0m \u001b[1m2s\u001b[0m 19ms/step - accuracy: 0.8178 - loss: 0.6665 - val_accuracy: 0.7150 - val_loss: 1.3104\n",
            "Epoch 12/20\n",
            "\u001b[1m63/63\u001b[0m \u001b[32m━━━━━━━━━━━━━━━━━━━━\u001b[0m\u001b[37m\u001b[0m \u001b[1m1s\u001b[0m 17ms/step - accuracy: 0.8326 - loss: 0.6268 - val_accuracy: 0.7090 - val_loss: 1.3563\n",
            "Epoch 13/20\n",
            "\u001b[1m63/63\u001b[0m \u001b[32m━━━━━━━━━━━━━━━━━━━━\u001b[0m\u001b[37m\u001b[0m \u001b[1m1s\u001b[0m 17ms/step - accuracy: 0.8316 - loss: 0.6144 - val_accuracy: 0.7160 - val_loss: 1.3708\n",
            "Epoch 14/20\n",
            "\u001b[1m63/63\u001b[0m \u001b[32m━━━━━━━━━━━━━━━━━━━━\u001b[0m\u001b[37m\u001b[0m \u001b[1m1s\u001b[0m 17ms/step - accuracy: 0.8484 - loss: 0.5627 - val_accuracy: 0.7200 - val_loss: 1.3817\n",
            "Epoch 15/20\n",
            "\u001b[1m63/63\u001b[0m \u001b[32m━━━━━━━━━━━━━━━━━━━━\u001b[0m\u001b[37m\u001b[0m \u001b[1m1s\u001b[0m 17ms/step - accuracy: 0.8542 - loss: 0.5347 - val_accuracy: 0.7160 - val_loss: 1.4425\n",
            "Epoch 16/20\n",
            "\u001b[1m63/63\u001b[0m \u001b[32m━━━━━━━━━━━━━━━━━━━━\u001b[0m\u001b[37m\u001b[0m \u001b[1m1s\u001b[0m 17ms/step - accuracy: 0.8544 - loss: 0.5057 - val_accuracy: 0.7160 - val_loss: 1.4833\n",
            "Epoch 17/20\n",
            "\u001b[1m63/63\u001b[0m \u001b[32m━━━━━━━━━━━━━━━━━━━━\u001b[0m\u001b[37m\u001b[0m \u001b[1m1s\u001b[0m 17ms/step - accuracy: 0.8571 - loss: 0.4950 - val_accuracy: 0.7290 - val_loss: 1.5021\n",
            "Epoch 18/20\n",
            "\u001b[1m63/63\u001b[0m \u001b[32m━━━━━━━━━━━━━━━━━━━━\u001b[0m\u001b[37m\u001b[0m \u001b[1m1s\u001b[0m 17ms/step - accuracy: 0.8648 - loss: 0.4646 - val_accuracy: 0.7190 - val_loss: 1.5227\n",
            "Epoch 19/20\n",
            "\u001b[1m63/63\u001b[0m \u001b[32m━━━━━━━━━━━━━━━━━━━━\u001b[0m\u001b[37m\u001b[0m \u001b[1m2s\u001b[0m 25ms/step - accuracy: 0.8676 - loss: 0.4460 - val_accuracy: 0.7210 - val_loss: 1.5616\n",
            "Epoch 20/20\n",
            "\u001b[1m63/63\u001b[0m \u001b[32m━━━━━━━━━━━━━━━━━━━━\u001b[0m\u001b[37m\u001b[0m \u001b[1m3s\u001b[0m 32ms/step - accuracy: 0.8653 - loss: 0.4424 - val_accuracy: 0.7170 - val_loss: 1.6213\n"
          ]
        },
        {
          "output_type": "execute_result",
          "data": {
            "text/plain": [
              "<keras.src.callbacks.history.History at 0x7aba5463e530>"
            ]
          },
          "metadata": {},
          "execution_count": 28
        }
      ]
    },
    {
      "cell_type": "code",
      "source": [
        "n1=\"Liverpool secured a significant 2-0 win against Manchester City, showcasing stellar performances by Mohamed Salah and Cody Gakpo. This keeps Liverpool's season momentum strong\""
      ],
      "metadata": {
        "id": "6VH6kKK7XwtW"
      },
      "execution_count": null,
      "outputs": []
    },
    {
      "cell_type": "code",
      "source": [
        "tokens=n1.split(\" \")"
      ],
      "metadata": {
        "id": "RLFQoG2cFQJp"
      },
      "execution_count": null,
      "outputs": []
    },
    {
      "cell_type": "code",
      "source": [
        "tokens"
      ],
      "metadata": {
        "colab": {
          "base_uri": "https://localhost:8080/"
        },
        "id": "J5pDbC7PFWXe",
        "outputId": "9d41a1e2-a3f2-49ed-fc69-e701553cfed2"
      },
      "execution_count": null,
      "outputs": [
        {
          "output_type": "execute_result",
          "data": {
            "text/plain": [
              "['Liverpool',\n",
              " 'secured',\n",
              " 'a',\n",
              " 'significant',\n",
              " '2-0',\n",
              " 'win',\n",
              " 'against',\n",
              " 'Manchester',\n",
              " 'City,',\n",
              " 'showcasing',\n",
              " 'stellar',\n",
              " 'performances',\n",
              " 'by',\n",
              " 'Mohamed',\n",
              " 'Salah',\n",
              " 'and',\n",
              " 'Cody',\n",
              " 'Gakpo.',\n",
              " 'This',\n",
              " 'keeps',\n",
              " \"Liverpool's\",\n",
              " 'season',\n",
              " 'momentum',\n",
              " 'strong']"
            ]
          },
          "metadata": {},
          "execution_count": 31
        }
      ]
    },
    {
      "cell_type": "code",
      "source": [
        "# from sklearn.feature_extraction.text import CountVectorizer\n",
        "# vectorizer = CountVectorizer()\n",
        "# X = vectorizer.fit_transform(tokens)\n",
        "# vectorizer.get_feature_names_out()\n",
        "# print(X.toarray())"
      ],
      "metadata": {
        "id": "btQ_lm6EFmsW"
      },
      "execution_count": null,
      "outputs": []
    },
    {
      "cell_type": "code",
      "source": [
        "# # X\n",
        "\n",
        "# import numpy as np\n",
        "# from sklearn.feature_extraction.text import CountVectorizer\n",
        "\n",
        "# n1 = \"Liverpool secured a significant 2-0 win against Manchester City, showcasing stellar performances by Mohamed Salah and Cody Gakpo. This keeps Liverpool's season momentum strong\"\n",
        "# tokens = n1.split(\" \")\n",
        "\n",
        "# vectorizer = CountVectorizer()\n",
        "# X = vectorizer.fit_transform(tokens)\n",
        "\n",
        "# print(vectorizer.get_feature_names_out())\n",
        "# print(X.toarray())"
      ],
      "metadata": {
        "id": "qKCIoKp4GII6"
      },
      "execution_count": null,
      "outputs": []
    },
    {
      "cell_type": "code",
      "source": [
        "# vectorizer.get_feature_names_out()"
      ],
      "metadata": {
        "id": "it8UGg4OGX3D"
      },
      "execution_count": null,
      "outputs": []
    },
    {
      "cell_type": "code",
      "source": [
        "# it is the Number assign to vocabulary is assign from sciket learn vocabulary but acutal the number is Assign is not correct beacuse the\n",
        "# Reuters dataset set use other vacabulary for example the number 20 is for win in sklearn vacabulary but reuter 20 asssign to sports so ther\n",
        "# is beg diffrence so the result is show is wrong\n",
        "# vectorizer.vocabulary_"
      ],
      "metadata": {
        "id": "hpoUHefiHQHr"
      },
      "execution_count": null,
      "outputs": []
    },
    {
      "cell_type": "code",
      "source": [
        "# vectorizer.vocabulary_.values()"
      ],
      "metadata": {
        "id": "F8U15VaQHawq"
      },
      "execution_count": null,
      "outputs": []
    },
    {
      "cell_type": "markdown",
      "source": [
        "# So We Use the its OWN vacabulary of the Data sets"
      ],
      "metadata": {
        "id": "-VFASz5RJutP"
      }
    },
    {
      "cell_type": "code",
      "source": [
        "news_vector=[]"
      ],
      "metadata": {
        "id": "4xJ4lH6yLx4-"
      },
      "execution_count": null,
      "outputs": []
    },
    {
      "cell_type": "code",
      "source": [
        "word_index = reuters.get_word_index()\n"
      ],
      "metadata": {
        "id": "XyJBULM8HnBa"
      },
      "execution_count": null,
      "outputs": []
    },
    {
      "cell_type": "code",
      "source": [
        "len(word_index)"
      ],
      "metadata": {
        "colab": {
          "base_uri": "https://localhost:8080/"
        },
        "id": "2RfDEKqRJ3LL",
        "outputId": "b6f90c93-8bcf-4ed8-b24d-5c2f85f8b0d2"
      },
      "execution_count": null,
      "outputs": [
        {
          "output_type": "execute_result",
          "data": {
            "text/plain": [
              "30979"
            ]
          },
          "metadata": {},
          "execution_count": 62
        }
      ]
    },
    {
      "cell_type": "code",
      "source": [
        "for token in tokens:\n",
        "    if token in word_index:\n",
        "      news_vector.append(word_index[token])\n",
        "      print(word_index[token])"
      ],
      "metadata": {
        "colab": {
          "base_uri": "https://localhost:8080/"
        },
        "id": "Yjht59LdJ7sb",
        "outputId": "42371be7-a989-40dc-ed13-9eb8cc195937"
      },
      "execution_count": null,
      "outputs": [
        {
          "output_type": "stream",
          "name": "stdout",
          "text": [
            "4002\n",
            "7\n",
            "919\n",
            "3682\n",
            "109\n",
            "9955\n",
            "24\n",
            "6\n",
            "9547\n",
            "757\n",
            "3505\n",
            "467\n"
          ]
        }
      ]
    },
    {
      "cell_type": "code",
      "source": [
        "print(word_index[\"token\"])"
      ],
      "metadata": {
        "colab": {
          "base_uri": "https://localhost:8080/"
        },
        "id": "xbba4oucKeiL",
        "outputId": "66a5c18f-d8af-4abd-a298-ea6aeb854455"
      },
      "execution_count": null,
      "outputs": [
        {
          "output_type": "stream",
          "name": "stdout",
          "text": [
            "10414\n"
          ]
        }
      ]
    },
    {
      "cell_type": "code",
      "source": [
        "news_vector"
      ],
      "metadata": {
        "colab": {
          "base_uri": "https://localhost:8080/"
        },
        "id": "Qzn48z6yKn8r",
        "outputId": "fb69162d-cb6f-47ea-bac5-d3bb844a5eef"
      },
      "execution_count": null,
      "outputs": [
        {
          "output_type": "execute_result",
          "data": {
            "text/plain": [
              "[4002, 7, 919, 3682, 109, 9955, 24, 6, 9547, 757, 3505, 467]"
            ]
          },
          "metadata": {},
          "execution_count": 68
        }
      ]
    },
    {
      "cell_type": "code",
      "source": [
        "vectorize_sequences(news_vector)"
      ],
      "metadata": {
        "colab": {
          "base_uri": "https://localhost:8080/"
        },
        "id": "ATWoIq7gLvXB",
        "outputId": "9340ebf8-bbfe-4a8f-ba43-e6b19bdd2527"
      },
      "execution_count": null,
      "outputs": [
        {
          "output_type": "execute_result",
          "data": {
            "text/plain": [
              "array([[0., 0., 0., ..., 0., 0., 0.],\n",
              "       [0., 0., 0., ..., 0., 0., 0.],\n",
              "       [0., 0., 0., ..., 0., 0., 0.],\n",
              "       ...,\n",
              "       [0., 0., 0., ..., 0., 0., 0.],\n",
              "       [0., 0., 0., ..., 0., 0., 0.],\n",
              "       [0., 0., 0., ..., 0., 0., 0.]])"
            ]
          },
          "metadata": {},
          "execution_count": 69
        }
      ]
    },
    {
      "cell_type": "code",
      "source": [
        "model.predict(vectorize_sequences(news_vector))"
      ],
      "metadata": {
        "colab": {
          "base_uri": "https://localhost:8080/"
        },
        "id": "n7-vtHmqLTd7",
        "outputId": "0c8ba8c1-1220-4473-e8a3-02290fc5a29e"
      },
      "execution_count": null,
      "outputs": [
        {
          "output_type": "stream",
          "name": "stdout",
          "text": [
            "\u001b[1m1/1\u001b[0m \u001b[32m━━━━━━━━━━━━━━━━━━━━\u001b[0m\u001b[37m\u001b[0m \u001b[1m0s\u001b[0m 78ms/step\n"
          ]
        },
        {
          "output_type": "execute_result",
          "data": {
            "text/plain": [
              "array([[0.01102621, 0.01949721, 0.00612458, 0.04114305, 0.05917656,\n",
              "        0.00473016, 0.0238718 , 0.02120888, 0.03226861, 0.00840352,\n",
              "        0.01455599, 0.02381771, 0.02615911, 0.01576703, 0.01430849,\n",
              "        0.0076581 , 0.02839943, 0.01842507, 0.0309188 , 0.03467308,\n",
              "        0.03958005, 0.03828729, 0.00738037, 0.02659299, 0.05539306,\n",
              "        0.019877  , 0.00278728, 0.02590075, 0.030821  , 0.0166878 ,\n",
              "        0.03492064, 0.02304591, 0.02741473, 0.01074166, 0.01414511,\n",
              "        0.01077438, 0.03515215, 0.01213112, 0.02595779, 0.01006246,\n",
              "        0.01731064, 0.02394062, 0.0096839 , 0.02586076, 0.00563205,\n",
              "        0.00778516],\n",
              "       [0.01726854, 0.03341346, 0.0094847 , 0.04667098, 0.05798419,\n",
              "        0.00965205, 0.01178954, 0.02756109, 0.02001014, 0.0162464 ,\n",
              "        0.02283682, 0.03681223, 0.01958625, 0.01619104, 0.02129737,\n",
              "        0.01032163, 0.02518574, 0.01097749, 0.03465585, 0.0352142 ,\n",
              "        0.03015021, 0.02598225, 0.00786514, 0.02058167, 0.06698842,\n",
              "        0.02333836, 0.00567934, 0.02540814, 0.03656421, 0.01347519,\n",
              "        0.02599857, 0.02555926, 0.0381582 , 0.00534063, 0.01171053,\n",
              "        0.00725514, 0.03991341, 0.01245838, 0.02061271, 0.0054811 ,\n",
              "        0.01834427, 0.0150343 , 0.00890574, 0.01832669, 0.00283683,\n",
              "        0.0048716 ],\n",
              "       [0.02282249, 0.04052468, 0.02124669, 0.03721527, 0.04825001,\n",
              "        0.01811389, 0.00696952, 0.03187018, 0.01083477, 0.02618296,\n",
              "        0.03143093, 0.05760726, 0.01084554, 0.01282875, 0.03499737,\n",
              "        0.02046297, 0.0183631 , 0.00544833, 0.0474072 , 0.02185398,\n",
              "        0.01602049, 0.01803765, 0.00758158, 0.01831003, 0.05728534,\n",
              "        0.02010327, 0.01202049, 0.02227789, 0.04422203, 0.01416823,\n",
              "        0.0199762 , 0.03382898, 0.04162546, 0.00294458, 0.01435207,\n",
              "        0.00635723, 0.04606162, 0.01126368, 0.01237926, 0.00401688,\n",
              "        0.0148402 , 0.00972135, 0.00742317, 0.01499376, 0.00191927,\n",
              "        0.00299338],\n",
              "       [0.012924  , 0.03703458, 0.01276207, 0.05210341, 0.05232511,\n",
              "        0.00994726, 0.01184314, 0.0230585 , 0.02094538, 0.01363809,\n",
              "        0.02839915, 0.04142823, 0.02082103, 0.01863226, 0.01995197,\n",
              "        0.01178031, 0.03124885, 0.01164041, 0.02937128, 0.03482332,\n",
              "        0.02632343, 0.0263904 , 0.00867089, 0.02452181, 0.07032152,\n",
              "        0.01701711, 0.00430539, 0.02440636, 0.03289809, 0.01086086,\n",
              "        0.03007211, 0.02144511, 0.04098093, 0.00535919, 0.01375647,\n",
              "        0.00585072, 0.04212366, 0.00931864, 0.01961439, 0.00387053,\n",
              "        0.01756427, 0.01668674, 0.00782167, 0.01988557, 0.00192876,\n",
              "        0.00332704],\n",
              "       [0.0115477 , 0.02340773, 0.00479152, 0.03431062, 0.03655981,\n",
              "        0.00703955, 0.02075474, 0.01941041, 0.03193212, 0.01258855,\n",
              "        0.01439804, 0.0149209 , 0.03641409, 0.02926789, 0.01091159,\n",
              "        0.00511745, 0.0293413 , 0.02699922, 0.01739833, 0.05524682,\n",
              "        0.05325003, 0.02507286, 0.01330663, 0.01992626, 0.06320039,\n",
              "        0.02504644, 0.00464422, 0.02645913, 0.01979841, 0.0095786 ,\n",
              "        0.02845335, 0.01350572, 0.03151633, 0.01390802, 0.00610089,\n",
              "        0.00832485, 0.02042829, 0.01917445, 0.03544234, 0.00865513,\n",
              "        0.03383374, 0.02209283, 0.01632404, 0.01763596, 0.00723066,\n",
              "        0.01473213],\n",
              "       [0.01383182, 0.02623505, 0.00915716, 0.03811056, 0.04747113,\n",
              "        0.00852747, 0.01833077, 0.02362391, 0.02571493, 0.01381712,\n",
              "        0.01919688, 0.02701437, 0.02475561, 0.02046143, 0.01764015,\n",
              "        0.00984817, 0.0275437 , 0.01669139, 0.02985729, 0.03710714,\n",
              "        0.03549711, 0.02865385, 0.01030627, 0.02421628, 0.06044264,\n",
              "        0.02176334, 0.00538028, 0.02658668, 0.03013257, 0.01403001,\n",
              "        0.03068204, 0.02227214, 0.03389779, 0.00948991, 0.01176775,\n",
              "        0.00936244, 0.03270642, 0.01486131, 0.02506241, 0.00820218,\n",
              "        0.02276664, 0.02019701, 0.01187635, 0.02142147, 0.00520954,\n",
              "        0.00827952],\n",
              "       [0.00982315, 0.03050315, 0.01048262, 0.05447732, 0.05520703,\n",
              "        0.00683696, 0.01576638, 0.01976801, 0.02668481, 0.00930037,\n",
              "        0.02455335, 0.03601748, 0.02426001, 0.01832126, 0.01614695,\n",
              "        0.01004473, 0.03549516, 0.01460774, 0.02682995, 0.03541183,\n",
              "        0.02939907, 0.03250742, 0.00804244, 0.02842821, 0.06757616,\n",
              "        0.01479702, 0.00263032, 0.02436252, 0.03039117, 0.01122318,\n",
              "        0.03567835, 0.01963273, 0.03627805, 0.00688982, 0.01559601,\n",
              "        0.00635005, 0.0419095 , 0.00812836, 0.02155937, 0.00439141,\n",
              "        0.0161684 , 0.02089623, 0.00738239, 0.02368805, 0.00214287,\n",
              "        0.00341262],\n",
              "       [0.01477434, 0.02240201, 0.00363484, 0.04127632, 0.05711757,\n",
              "        0.00536343, 0.01850069, 0.02411517, 0.03033743, 0.01169293,\n",
              "        0.01284668, 0.01839601, 0.02970775, 0.01831652, 0.01275885,\n",
              "        0.00482263, 0.02524056, 0.01961247, 0.02529068, 0.0489759 ,\n",
              "        0.05331702, 0.0302613 , 0.00808023, 0.01837129, 0.06370616,\n",
              "        0.03022251, 0.00384588, 0.02676806, 0.02770068, 0.01343417,\n",
              "        0.02669697, 0.01943238, 0.02968876, 0.00972639, 0.00740111,\n",
              "        0.00931071, 0.0272042 , 0.01731528, 0.03160939, 0.00957392,\n",
              "        0.02361103, 0.0193362 , 0.01218664, 0.01849248, 0.00614646,\n",
              "        0.01137791],\n",
              "       [0.01540962, 0.02304737, 0.00798264, 0.04164349, 0.06658071,\n",
              "        0.00633719, 0.01693972, 0.02655308, 0.02353843, 0.01160376,\n",
              "        0.01702023, 0.03292378, 0.01890255, 0.01246562, 0.02014532,\n",
              "        0.01023958, 0.02334147, 0.01177744, 0.04210524, 0.02876948,\n",
              "        0.03114826, 0.03387241, 0.00628447, 0.02356786, 0.05531198,\n",
              "        0.0221356 , 0.00418851, 0.02541734, 0.03971733, 0.01929418,\n",
              "        0.02942038, 0.03088329, 0.02993328, 0.0068551 , 0.01568883,\n",
              "        0.01042727, 0.0424646 , 0.01210399, 0.02045266, 0.00889346,\n",
              "        0.01477151, 0.01801197, 0.00841885, 0.02313423, 0.00437984,\n",
              "        0.00589611],\n",
              "       [0.01925698, 0.03384443, 0.01365402, 0.03922317, 0.05106953,\n",
              "        0.01273514, 0.01119279, 0.02920849, 0.0168206 , 0.0201226 ,\n",
              "        0.02489323, 0.04093764, 0.01650659, 0.0160495 , 0.02599474,\n",
              "        0.01422699, 0.02245514, 0.00944178, 0.0398137 , 0.02944328,\n",
              "        0.02480864, 0.02324896, 0.0087318 , 0.02087128, 0.06100281,\n",
              "        0.02257449, 0.00846605, 0.02508288, 0.0386386 , 0.01478809,\n",
              "        0.02469441, 0.02906776, 0.03870483, 0.00516927, 0.01303301,\n",
              "        0.00793781, 0.04036393, 0.01354429, 0.01802689, 0.00592827,\n",
              "        0.01864467, 0.01390236, 0.00954252, 0.01800769, 0.00321522,\n",
              "        0.00511313],\n",
              "       [0.0226226 , 0.01920338, 0.00706165, 0.0333724 , 0.07712416,\n",
              "        0.00624783, 0.01391944, 0.03364674, 0.01725425, 0.01416142,\n",
              "        0.01342673, 0.0348944 , 0.01244714, 0.00765559, 0.025926  ,\n",
              "        0.01124494, 0.01494231, 0.00740225, 0.06327124, 0.0207687 ,\n",
              "        0.02630704, 0.03129486, 0.00436723, 0.01846682, 0.04489405,\n",
              "        0.02790659, 0.00614873, 0.02398506, 0.05131513, 0.02828676,\n",
              "        0.02234965, 0.04600353, 0.02540273, 0.00493735, 0.01613688,\n",
              "        0.01327   , 0.04533713, 0.0140527 , 0.01600416, 0.01230024,\n",
              "        0.01138808, 0.01319339, 0.0076174 , 0.02043146, 0.0055412 ,\n",
              "        0.00646861],\n",
              "       [0.00349529, 0.03548826, 0.00976647, 0.09668241, 0.05421438,\n",
              "        0.00358993, 0.01219234, 0.01022531, 0.0312842 , 0.00332054,\n",
              "        0.03317469, 0.04161038, 0.02811723, 0.01810724, 0.00886966,\n",
              "        0.00688452, 0.0616807 , 0.01464976, 0.01320495, 0.03703015,\n",
              "        0.02241503, 0.03592365, 0.00563037, 0.03514536, 0.07930545,\n",
              "        0.00586257, 0.00046929, 0.01840172, 0.02054942, 0.0048252 ,\n",
              "        0.04577587, 0.00948972, 0.0367978 , 0.0044992 , 0.01828003,\n",
              "        0.00236212, 0.04740136, 0.00234024, 0.01787571, 0.00108634,\n",
              "        0.00949448, 0.02338511, 0.00309602, 0.02494573, 0.00037263,\n",
              "        0.00068112]], dtype=float32)"
            ]
          },
          "metadata": {},
          "execution_count": 70
        }
      ]
    },
    {
      "cell_type": "code",
      "source": [
        "model.predict(vectorize_sequences(news_vector)).argmax()"
      ],
      "metadata": {
        "colab": {
          "base_uri": "https://localhost:8080/"
        },
        "id": "i1Oww38yNeCM",
        "outputId": "10f2165f-db58-4e80-d57d-cc90e5009b01"
      },
      "execution_count": null,
      "outputs": [
        {
          "output_type": "stream",
          "name": "stdout",
          "text": [
            "\u001b[1m1/1\u001b[0m \u001b[32m━━━━━━━━━━━━━━━━━━━━\u001b[0m\u001b[37m\u001b[0m \u001b[1m0s\u001b[0m 25ms/step\n"
          ]
        },
        {
          "output_type": "execute_result",
          "data": {
            "text/plain": [
              "509"
            ]
          },
          "metadata": {},
          "execution_count": 71
        }
      ]
    },
    {
      "cell_type": "code",
      "source": [
        "def newclassifier(n1):\n",
        "  tokens=n1.split(\" \")\n",
        "  news_vector=[]\n",
        "  for token in tokens:\n",
        "    if token in word_index:\n",
        "      news_vector.append(word_index[token])\n",
        "      vectorize_sequences(news_vector)\n",
        "  return model.predict(vectorize_sequences(news_vector)).argmax()"
      ],
      "metadata": {
        "id": "-zge0Ex1Nktb"
      },
      "execution_count": null,
      "outputs": []
    },
    {
      "cell_type": "code",
      "source": [
        "newclassifier(n1)"
      ],
      "metadata": {
        "colab": {
          "base_uri": "https://localhost:8080/"
        },
        "id": "N78DUltPN_nc",
        "outputId": "2ac5adaf-7393-46ec-8b06-111a8a9c9ec8"
      },
      "execution_count": null,
      "outputs": [
        {
          "output_type": "stream",
          "name": "stdout",
          "text": [
            "\u001b[1m1/1\u001b[0m \u001b[32m━━━━━━━━━━━━━━━━━━━━\u001b[0m\u001b[37m\u001b[0m \u001b[1m0s\u001b[0m 106ms/step\n"
          ]
        },
        {
          "output_type": "execute_result",
          "data": {
            "text/plain": [
              "509"
            ]
          },
          "metadata": {},
          "execution_count": 74
        }
      ]
    },
    {
      "cell_type": "code",
      "source": [
        "model.save(\"my_model.h5\")"
      ],
      "metadata": {
        "colab": {
          "base_uri": "https://localhost:8080/"
        },
        "id": "QAfOK3D4ON-L",
        "outputId": "8d9c7026-3a16-42b4-f459-40b6892d87d4"
      },
      "execution_count": null,
      "outputs": [
        {
          "output_type": "stream",
          "name": "stderr",
          "text": [
            "WARNING:absl:You are saving your model as an HDF5 file via `model.save()` or `keras.saving.save_model(model)`. This file format is considered legacy. We recommend using instead the native Keras format, e.g. `model.save('my_model.keras')` or `keras.saving.save_model(model, 'my_model.keras')`. \n"
          ]
        }
      ]
    },
    {
      "cell_type": "code",
      "source": [
        "model.save('my_model.keras')"
      ],
      "metadata": {
        "id": "qnGFQ209OVbr"
      },
      "execution_count": null,
      "outputs": []
    },
    {
      "cell_type": "code",
      "source": [
        "newclassifier(\"Gus Atkinson's Hat-Trick: England's Gus Atkinson achieved a historic hat-trick against New Zealand in the second Test in Wellington\")"
      ],
      "metadata": {
        "colab": {
          "base_uri": "https://localhost:8080/"
        },
        "id": "KHiTCS4aOZlr",
        "outputId": "d1a264dc-f7d5-45d8-8f5e-22185c7b6645"
      },
      "execution_count": null,
      "outputs": [
        {
          "output_type": "stream",
          "name": "stdout",
          "text": [
            "\u001b[1m1/1\u001b[0m \u001b[32m━━━━━━━━━━━━━━━━━━━━\u001b[0m\u001b[37m\u001b[0m \u001b[1m0s\u001b[0m 78ms/step\n"
          ]
        },
        {
          "output_type": "execute_result",
          "data": {
            "text/plain": [
              "233"
            ]
          },
          "metadata": {},
          "execution_count": 77
        }
      ]
    },
    {
      "cell_type": "code",
      "source": [
        "newclassifier(\"Lionel Messi Wins MLS MVP: Lionel Messi was awarded the MLS Most Valuable Player for his exceptional season​\")"
      ],
      "metadata": {
        "colab": {
          "base_uri": "https://localhost:8080/"
        },
        "id": "5hFFd6huO7gS",
        "outputId": "7ca8ccd2-0ef1-4fe5-cfbc-fe513dd3d9da"
      },
      "execution_count": null,
      "outputs": [
        {
          "output_type": "stream",
          "name": "stdout",
          "text": [
            "\u001b[1m1/1\u001b[0m \u001b[32m━━━━━━━━━━━━━━━━━━━━\u001b[0m\u001b[37m\u001b[0m \u001b[1m0s\u001b[0m 35ms/step\n"
          ]
        },
        {
          "output_type": "execute_result",
          "data": {
            "text/plain": [
              "95"
            ]
          },
          "metadata": {},
          "execution_count": 82
        }
      ]
    },
    {
      "cell_type": "code",
      "source": [],
      "metadata": {
        "id": "-t2XcVEMPF6c"
      },
      "execution_count": null,
      "outputs": []
    }
  ]
}